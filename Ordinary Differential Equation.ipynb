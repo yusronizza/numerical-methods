{
 "cells": [
  {
   "cell_type": "markdown",
   "id": "85469fcf",
   "metadata": {},
   "source": [
    "## <div style=\"text-align:center;\"><b>Ordinary Differential Equation</b></div>"
   ]
  },
  {
   "cell_type": "markdown",
   "id": "30a0d867",
   "metadata": {},
   "source": [
    "### <b>Runge Kutta Orde 4</b><br><br>\n",
    "\n",
    "${{dy(t)} \\over {dt}} = y'(t) = f(y(t),t), \\quad \\quad {\\rm{with\\;}} y(t_0)=y_0$ <br><br>\n",
    "\n",
    "$\\eqalign{ \n",
    "& {k_1} = f\\left( {t_0},{y}({t_0})\\right)  \\cr  \n",
    "& {k_2} = f\\left( {{t_0} + {h \\over 2}, {y}({t_0}) + {k_1}{h \\over 2}} \\right)  \\cr  \n",
    "& {k_3} = f\\left( {{t_0} + {h \\over 2}, {y}({t_0}) + {k_2}{h \\over 2}} \\right)  \\cr  \n",
    "& {k_4} = f\\left( {{t_0} + h,{y}({t_0}) + {k_3}h} \\right) \\cr}$ <br>\n",
    "\n",
    "$\\eqalign{ \n",
    "{y}({t_0} + h) &= {y}({t_0}) + {{{k_1} + 2{k_2} + 2{k_3} + {k_4}} \\over 6}h = {y}({t_0}) + \\left( {{1 \\over 6}{k_1} + {1 \\over 3}{k_2} + {1 \\over 3}{k_3} + {1 \\over 6}{k_4}} \\right)h \\cr  \n",
    "&= {y}({t_0}) + mh\\quad \\quad {\\rm{where\\;}}m{\\rm{\\;is\\;a\\;weighted\\;average\\; slope\\; approximation}} \\cr}$<br>\n"
   ]
  },
  {
   "cell_type": "code",
   "execution_count": 1,
   "id": "dde4152d",
   "metadata": {
    "scrolled": false
   },
   "outputs": [
    {
     "name": "stdout",
     "output_type": "stream",
     "text": [
      "x\t\t y\n",
      "0 \t\t 6\n",
      "0.25 \t\t 6.439387851616156\n",
      "0.5 \t\t 6.85766029768756\n",
      "0.75 \t\t 7.255093627084464\n",
      "1.0 \t\t 7.632090977648054\n",
      "1.25 \t\t 7.989155919589049\n",
      "1.5 \t\t 8.32686997469612\n",
      "1.75 \t\t 8.645873548782987\n",
      "2.0 \t\t 8.946849820549449\n",
      "\n",
      "The value of y when x =  2 is 8.946849820549449\n"
     ]
    },
    {
     "data": {
      "image/png": "[encoded data removed]",
      "text/plain": [
       "<Figure size 432x288 with 1 Axes>"
      ]
     },
     "metadata": {
      "needs_background": "light"
     },
     "output_type": "display_data"
    }
   ],
   "source": [
    "#Import module\n",
    "import math\n",
    "import matplotlib.pyplot as plt\n",
    "\n",
    "#Set the differential equation\n",
    "def dydx(x, y):\n",
    "    return 4-0.3*y-0.1*4*math.exp(-0.5*x)\n",
    "\n",
    "#Function declaration for Fourth Order Runge Kutta Method\n",
    "def rungeKuttaFourthOrder(xi, yi, xn, h):\n",
    "    matrix_x = []\n",
    "    matrix_y = []\n",
    "    n = int((xn - xi)/h)\n",
    "    for i in range(0, n+1):\n",
    "        k1 = dydx(xi, yi)\n",
    "        k2 = dydx(xi+h/2, yi+(k1*h/2))\n",
    "        k3 = dydx(xi+h/2, yi+(k2*h/2))\n",
    "        k4 = dydx(xi+h, yi+k3*h )\n",
    "        yn = yi + (h/6)*(k1 + 2*k2 + 2*k3 + k4)\n",
    "        \n",
    "        #Save x and y value into Matrix\n",
    "        matrix_x.append(xi)\n",
    "        matrix_y.append(yi)\n",
    "        \n",
    "        #Update value xi and yi\n",
    "        xi = xi + h\n",
    "        yi = yn    \n",
    "    return(matrix_x, matrix_y)\n",
    "\n",
    "#Set the initial value\n",
    "xi = 0\n",
    "yi = 6\n",
    "xn = 2\n",
    "h = 0.25\n",
    "n = int((xn - xi)/h)\n",
    "\n",
    "#Calling function, then save the return value into x and y matrix\n",
    "x_value, y_value = rungeKuttaFourthOrder(xi, yi, xn, h)\n",
    "\n",
    "#Print the value for each x\n",
    "print(\"x\\t\\t y\")\n",
    "for i in range(0, n+1):\n",
    "    print(x_value[i],'\\t\\t', y_value[i])\n",
    "\n",
    "#Show graph using matplotlib\n",
    "plt.xlabel('x')\n",
    "plt.ylabel('y')\n",
    "plt.title('ODE Graph Approximation Using 4th Order RK')\n",
    "plt.plot(x_value, y_value)\n",
    "plt.show\n",
    "\n",
    "#Print the result\n",
    "print(\"\\nThe value of y when x = \", xn, \"is\", y_value[n])"
   ]
  },
  {
   "cell_type": "markdown",
   "id": "84d267a3",
   "metadata": {},
   "source": [
    "### <b>Euler's Method</b><br>\n",
    "## $y_1 = y_0 + f(x_0,y_0)h$ <br>"
   ]
  },
  {
   "cell_type": "code",
   "execution_count": 2,
   "id": "3540f274",
   "metadata": {},
   "outputs": [
    {
     "name": "stdout",
     "output_type": "stream",
     "text": [
      "x\t\t y\n",
      "0 \t\t 1\n",
      "0.125 \t\t 1.125\n",
      "0.25 \t\t 1.290728151840597\n",
      "0.375 \t\t 1.5037473096366647\n",
      "0.5 \t\t 1.771994692422193\n",
      "0.625 \t\t 2.1047854198717224\n",
      "0.75 \t\t 2.512819505995752\n",
      "0.875 \t\t 3.0081906091925346\n",
      "1.0 \t\t 3.6043952914590696\n",
      "\n",
      "The value of y when x =  1 is 3.6043952914590696\n"
     ]
    },
    {
     "data": {
      "image/png": "[encoded data removed]",
      "text/plain": [
       "<Figure size 432x288 with 1 Axes>"
      ]
     },
     "metadata": {
      "needs_background": "light"
     },
     "output_type": "display_data"
    }
   ],
   "source": [
    "#Import module\n",
    "import matplotlib.pyplot as plt\n",
    "\n",
    "#Set the differential equation\n",
    "def dydx(x, y):\n",
    "    return (1+2*x)*y**0.5\n",
    "\n",
    "#Function declaration for Euler's Method\n",
    "def eulerMethod(xi, yi, xn, h):\n",
    "    matrix_x = []\n",
    "    matrix_y = []\n",
    "    n = int((xn - xi)/h)\n",
    "    for i in range(0, n+1):\n",
    "        yn = yi + dydx(xi, yi)*h\n",
    "        \n",
    "        #Save x and y value into matrix\n",
    "        matrix_x.append(xi)\n",
    "        matrix_y.append(yi)\n",
    "        \n",
    "        #Update value xi and yi\n",
    "        xi = xi + h\n",
    "        yi = yn    \n",
    "    return(matrix_x, matrix_y)\n",
    "\n",
    "#Set the initial value\n",
    "xi = 0\n",
    "yi = 1\n",
    "xn = 1\n",
    "h = 0.125\n",
    "n = int((xn - xi)/h)\n",
    "\n",
    "#Calling eulerMethod function, then save the return value into x and y matrix\n",
    "x_value, y_value = eulerMethod(xi, yi, xn, h)\n",
    "\n",
    "#Print the value for each x\n",
    "print(\"x\\t\\t y\")\n",
    "for i in range(0, n+1):\n",
    "    print(x_value[i],'\\t\\t', y_value[i])\n",
    "\n",
    "#Show graph using matplotlib\n",
    "plt.xlabel('x')\n",
    "plt.ylabel('y')\n",
    "plt.title(\"ODE Graph Approximation Using Euler's Method\")\n",
    "plt.plot(x_value, y_value)\n",
    "plt.show\n",
    "\n",
    "#Print the result\n",
    "print(\"\\nThe value of y when x = \", xn, \"is\", y_value[n])"
   ]
  }
 ],
 "metadata": {
  "kernelspec": {
   "display_name": "Python 3 (ipykernel)",
   "language": "python",
   "name": "python3"
  },
  "language_info": {
   "codemirror_mode": {
    "name": "ipython",
    "version": 3
   },
   "file_extension": ".py",
   "mimetype": "text/x-python",
   "name": "python",
   "nbconvert_exporter": "python",
   "pygments_lexer": "ipython3",
   "version": "3.9.10"
  }
 },
 "nbformat": 4,
 "nbformat_minor": 5
}
